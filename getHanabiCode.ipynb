{
 "cells": [
  {
   "cell_type": "code",
   "execution_count": 11,
   "metadata": {},
   "outputs": [],
   "source": [
    "from DrissionPage import Chromium\n",
    "from pathlib import Path\n",
    "from uuid import uuid4\n",
    "from time import time\n",
    "from dotenv import load_dotenv\n",
    "from os import getenv"
   ]
  },
  {
   "cell_type": "code",
   "execution_count": 12,
   "metadata": {},
   "outputs": [
    {
     "data": {
      "text/plain": [
       "True"
      ]
     },
     "execution_count": 12,
     "metadata": {},
     "output_type": "execute_result"
    }
   ],
   "source": [
    "load_dotenv()\n",
    "\n",
    "tab = Chromium().latest_tab\n",
    "tab.get('https://sayhanabi.net')"
   ]
  },
  {
   "cell_type": "code",
   "execution_count": 13,
   "metadata": {},
   "outputs": [
    {
     "data": {
      "text/plain": [
       "<ChromiumElement button class='pn pnc' type='submit' name='loginsubmit' value='true' tabindex='1'>"
      ]
     },
     "execution_count": 13,
     "metadata": {},
     "output_type": "execute_result"
    }
   ],
   "source": [
    "tab.wait(5)\n",
    "username = tab.ele('@id^username_')\n",
    "password = tab.ele('@id^password3_')\n",
    "submit_button = tab.ele('@name=loginsubmit')\n",
    "\n",
    "username.clear()\n",
    "password.clear()\n",
    "\n",
    "username.input(getenv('HANABI_USERNAME'))\n",
    "password.input(getenv('HANABI_PASSWORD'))\n",
    "submit_button.click()"
   ]
  },
  {
   "cell_type": "code",
   "execution_count": 14,
   "metadata": {},
   "outputs": [
    {
     "data": {
      "text/plain": [
       "True"
      ]
     },
     "execution_count": 14,
     "metadata": {},
     "output_type": "execute_result"
    }
   ],
   "source": [
    "tab.wait(10)\n",
    "tab.get('https://www.sayhanabi.net/home.php?mod=spacecp&ac=profile&op=password')"
   ]
  },
  {
   "cell_type": "code",
   "execution_count": 15,
   "metadata": {},
   "outputs": [
    {
     "name": "stdout",
     "output_type": "stream",
     "text": [
      "成功输入验证码！验证码为：x3pe\n",
      "成功输入验证码！验证码为：ew43\n"
     ]
    },
    {
     "ename": "PageDisconnectedError",
     "evalue": "\n与页面的连接已断开。\n版本: 4.1.0.18",
     "output_type": "error",
     "traceback": [
      "\u001b[31m---------------------------------------------------------------------------\u001b[39m",
      "\u001b[31mPageDisconnectedError\u001b[39m                     Traceback (most recent call last)",
      "\u001b[36mCell\u001b[39m\u001b[36m \u001b[39m\u001b[32mIn[15]\u001b[39m\u001b[32m, line 13\u001b[39m\n\u001b[32m     11\u001b[39m \u001b[38;5;28;01mwhile\u001b[39;00m \u001b[38;5;28;01mTrue\u001b[39;00m:\n\u001b[32m     12\u001b[39m     tab.wait(\u001b[32m0.5\u001b[39m) \u001b[38;5;66;03m# 等待0.5s继续检测\u001b[39;00m\n\u001b[32m---> \u001b[39m\u001b[32m13\u001b[39m     checkerimg_ele = \u001b[43mtab\u001b[49m\u001b[43m.\u001b[49m\u001b[43mele\u001b[49m\u001b[43m(\u001b[49m\u001b[33;43m'\u001b[39;49m\u001b[33;43m@id^checkseccodeverify_\u001b[39;49m\u001b[33;43m'\u001b[39;49m\u001b[43m)\u001b[49m.child()\n\u001b[32m     14\u001b[39m     current_src = checkerimg_ele.property(\u001b[33m'\u001b[39m\u001b[33msrc\u001b[39m\u001b[33m'\u001b[39m)\n\u001b[32m     15\u001b[39m     \u001b[38;5;28;01mif\u001b[39;00m current_src == \u001b[33m'\u001b[39m\u001b[33mhttps://www.sayhanabi.net/static/image/common/check_right.gif\u001b[39m\u001b[33m'\u001b[39m:\n",
      "\u001b[36mFile \u001b[39m\u001b[32me:\\python_captcha_solver\\.venv\\Lib\\site-packages\\DrissionPage\\_pages\\mix_tab.py:109\u001b[39m, in \u001b[36mMixTab.ele\u001b[39m\u001b[34m(self, locator, index, timeout)\u001b[39m\n\u001b[32m    108\u001b[39m \u001b[38;5;28;01mdef\u001b[39;00m\u001b[38;5;250m \u001b[39m\u001b[34mele\u001b[39m(\u001b[38;5;28mself\u001b[39m, locator, index=\u001b[32m1\u001b[39m, timeout=\u001b[38;5;28;01mNone\u001b[39;00m):\n\u001b[32m--> \u001b[39m\u001b[32m109\u001b[39m     \u001b[38;5;28;01mreturn\u001b[39;00m (\u001b[38;5;28;43msuper\u001b[39;49m\u001b[43m(\u001b[49m\u001b[43mSessionPage\u001b[49m\u001b[43m,\u001b[49m\u001b[43m \u001b[49m\u001b[38;5;28;43mself\u001b[39;49m\u001b[43m)\u001b[49m\u001b[43m.\u001b[49m\u001b[43mele\u001b[49m\u001b[43m(\u001b[49m\u001b[43mlocator\u001b[49m\u001b[43m,\u001b[49m\u001b[43m \u001b[49m\u001b[43mindex\u001b[49m\u001b[43m=\u001b[49m\u001b[43mindex\u001b[49m\u001b[43m,\u001b[49m\u001b[43m \u001b[49m\u001b[43mtimeout\u001b[49m\u001b[43m=\u001b[49m\u001b[43mtimeout\u001b[49m\u001b[43m)\u001b[49m\n\u001b[32m    110\u001b[39m             \u001b[38;5;28;01mif\u001b[39;00m \u001b[38;5;28mself\u001b[39m._d_mode \u001b[38;5;28;01melse\u001b[39;00m \u001b[38;5;28msuper\u001b[39m().ele(locator, index=index))\n",
      "\u001b[36mFile \u001b[39m\u001b[32me:\\python_captcha_solver\\.venv\\Lib\\site-packages\\DrissionPage\\_pages\\chromium_base.py:425\u001b[39m, in \u001b[36mChromiumBase.ele\u001b[39m\u001b[34m(self, locator, index, timeout)\u001b[39m\n\u001b[32m    424\u001b[39m \u001b[38;5;28;01mdef\u001b[39;00m\u001b[38;5;250m \u001b[39m\u001b[34mele\u001b[39m(\u001b[38;5;28mself\u001b[39m, locator, index=\u001b[32m1\u001b[39m, timeout=\u001b[38;5;28;01mNone\u001b[39;00m):\n\u001b[32m--> \u001b[39m\u001b[32m425\u001b[39m     \u001b[38;5;28;01mreturn\u001b[39;00m \u001b[38;5;28;43mself\u001b[39;49m\u001b[43m.\u001b[49m\u001b[43m_ele\u001b[49m\u001b[43m(\u001b[49m\u001b[43mlocator\u001b[49m\u001b[43m,\u001b[49m\u001b[43m \u001b[49m\u001b[43mtimeout\u001b[49m\u001b[43m=\u001b[49m\u001b[43mtimeout\u001b[49m\u001b[43m,\u001b[49m\u001b[43m \u001b[49m\u001b[43mindex\u001b[49m\u001b[43m=\u001b[49m\u001b[43mindex\u001b[49m\u001b[43m,\u001b[49m\u001b[43m \u001b[49m\u001b[43mmethod\u001b[49m\u001b[43m=\u001b[49m\u001b[33;43m'\u001b[39;49m\u001b[33;43mele()\u001b[39;49m\u001b[33;43m'\u001b[39;49m\u001b[43m)\u001b[49m\n",
      "\u001b[36mFile \u001b[39m\u001b[32me:\\python_captcha_solver\\.venv\\Lib\\site-packages\\DrissionPage\\_base\\base.py:354\u001b[39m, in \u001b[36mBasePage._ele\u001b[39m\u001b[34m(self, locator, timeout, index, raise_err, method)\u001b[39m\n\u001b[32m    351\u001b[39m \u001b[38;5;28;01mif\u001b[39;00m timeout \u001b[38;5;129;01mis\u001b[39;00m \u001b[38;5;28;01mNone\u001b[39;00m:\n\u001b[32m    352\u001b[39m     timeout = \u001b[38;5;28mself\u001b[39m.timeout\n\u001b[32m--> \u001b[39m\u001b[32m354\u001b[39m r = \u001b[38;5;28;43mself\u001b[39;49m\u001b[43m.\u001b[49m\u001b[43m_find_elements\u001b[49m\u001b[43m(\u001b[49m\u001b[43mlocator\u001b[49m\u001b[43m,\u001b[49m\u001b[43m \u001b[49m\u001b[43mtimeout\u001b[49m\u001b[43m=\u001b[49m\u001b[43mtimeout\u001b[49m\u001b[43m,\u001b[49m\u001b[43m \u001b[49m\u001b[43mindex\u001b[49m\u001b[43m=\u001b[49m\u001b[43mindex\u001b[49m\u001b[43m,\u001b[49m\u001b[43m \u001b[49m\u001b[43mraise_err\u001b[49m\u001b[43m=\u001b[49m\u001b[43mraise_err\u001b[49m\u001b[43m)\u001b[49m\n\u001b[32m    355\u001b[39m \u001b[38;5;28;01mif\u001b[39;00m r \u001b[38;5;129;01mor\u001b[39;00m \u001b[38;5;28misinstance\u001b[39m(r, \u001b[38;5;28mlist\u001b[39m):\n\u001b[32m    356\u001b[39m     \u001b[38;5;28;01mreturn\u001b[39;00m r\n",
      "\u001b[36mFile \u001b[39m\u001b[32me:\\python_captcha_solver\\.venv\\Lib\\site-packages\\DrissionPage\\_pages\\mix_tab.py:192\u001b[39m, in \u001b[36mMixTab._find_elements\u001b[39m\u001b[34m(self, locator, timeout, index, relative, raise_err)\u001b[39m\n\u001b[32m    191\u001b[39m \u001b[38;5;28;01mdef\u001b[39;00m\u001b[38;5;250m \u001b[39m\u001b[34m_find_elements\u001b[39m(\u001b[38;5;28mself\u001b[39m, locator, timeout, index=\u001b[32m1\u001b[39m, relative=\u001b[38;5;28;01mFalse\u001b[39;00m, raise_err=\u001b[38;5;28;01mNone\u001b[39;00m):\n\u001b[32m--> \u001b[39m\u001b[32m192\u001b[39m     \u001b[38;5;28;01mreturn\u001b[39;00m \u001b[38;5;28;43msuper\u001b[39;49m\u001b[43m(\u001b[49m\u001b[43mSessionPage\u001b[49m\u001b[43m,\u001b[49m\u001b[43m \u001b[49m\u001b[38;5;28;43mself\u001b[39;49m\u001b[43m)\u001b[49m\u001b[43m.\u001b[49m\u001b[43m_find_elements\u001b[49m\u001b[43m(\u001b[49m\u001b[43mlocator\u001b[49m\u001b[43m,\u001b[49m\u001b[43m \u001b[49m\u001b[43mtimeout\u001b[49m\u001b[43m=\u001b[49m\u001b[43mtimeout\u001b[49m\u001b[43m,\u001b[49m\u001b[43m \u001b[49m\u001b[43mindex\u001b[49m\u001b[43m=\u001b[49m\u001b[43mindex\u001b[49m\u001b[43m,\u001b[49m\u001b[43m \u001b[49m\u001b[43mrelative\u001b[49m\u001b[43m=\u001b[49m\u001b[43mrelative\u001b[49m\u001b[43m)\u001b[49m \\\n\u001b[32m    193\u001b[39m         \u001b[38;5;28;01mif\u001b[39;00m \u001b[38;5;28mself\u001b[39m._d_mode \u001b[38;5;28;01melse\u001b[39;00m \u001b[38;5;28msuper\u001b[39m()._find_elements(locator, index=index, timeout=timeout)\n",
      "\u001b[36mFile \u001b[39m\u001b[32me:\\python_captcha_solver\\.venv\\Lib\\site-packages\\DrissionPage\\_pages\\chromium_base.py:498\u001b[39m, in \u001b[36mChromiumBase._find_elements\u001b[39m\u001b[34m(self, locator, timeout, index, relative, raise_err)\u001b[39m\n\u001b[32m    496\u001b[39m         search_ids.append(result[\u001b[33m'\u001b[39m\u001b[33msearchId\u001b[39m\u001b[33m'\u001b[39m])\n\u001b[32m    497\u001b[39m     \u001b[38;5;28;01melif\u001b[39;00m result \u001b[38;5;129;01mand\u001b[39;00m result[__ERROR__] == \u001b[33m'\u001b[39m\u001b[33mconnection disconnected\u001b[39m\u001b[33m'\u001b[39m:\n\u001b[32m--> \u001b[39m\u001b[32m498\u001b[39m         \u001b[38;5;28;01mraise\u001b[39;00m PageDisconnectedError\n\u001b[32m    500\u001b[39m \u001b[38;5;28;01mfor\u001b[39;00m _id \u001b[38;5;129;01min\u001b[39;00m search_ids:\n\u001b[32m    501\u001b[39m     \u001b[38;5;28mself\u001b[39m._driver.run(\u001b[33m'\u001b[39m\u001b[33mDOM.discardSearchResults\u001b[39m\u001b[33m'\u001b[39m, searchId=_id)\n",
      "\u001b[31mPageDisconnectedError\u001b[39m: \n与页面的连接已断开。\n版本: 4.1.0.18"
     ]
    }
   ],
   "source": [
    "while True:\n",
    "    file_uuid = uuid4().hex\n",
    "    tab.wait(1)\n",
    "    img_ele = tab.ele('@id^vseccode_').child('tag:img')\n",
    "    img_ele.get_screenshot(path=Path.cwd() / 'captcha' / 'unsolved' / f'tmp_captcha_{file_uuid}.png')\n",
    "    start_time = time()\n",
    "    tab.ele('@id^seccodeverify_').clear()\n",
    "    tab.ele('@id^seccodeverify_').input('1-23')\n",
    "    tab.ele('@class=mt bbda').click()\n",
    "    out_of_time = False\n",
    "    while True:\n",
    "        tab.wait(0.5) # 等待0.5s继续检测\n",
    "        checkerimg_ele = tab.ele('@id^checkseccodeverify_').child()\n",
    "        current_src = checkerimg_ele.property('src')\n",
    "        if current_src == 'https://www.sayhanabi.net/static/image/common/check_right.gif':\n",
    "            captcha_code = tab.ele('@id^seccodeverify_').property('value')\n",
    "            print(f'成功输入验证码！验证码为：{captcha_code}')\n",
    "            break\n",
    "        if time() - start_time > 60:\n",
    "            print('等待超时。')\n",
    "            out_of_time = True\n",
    "            break\n",
    "    \n",
    "    img_ele = tab.ele('@id^vseccode_').child('tag:img')\n",
    "    if not out_of_time:\n",
    "        captcha_code = tab.ele('@id^seccodeverify_').property('value')\n",
    "        img_ele.get_screenshot(path=Path.cwd() / 'captcha' / 'solved' / f'{captcha_code}_{file_uuid}.png')\n",
    "        (Path.cwd() / 'captcha' / 'unsolved' / f'tmp_captcha_{file_uuid}.png').unlink()\n",
    "    tab.ele('tag:a@@class=xi2@@onclick^updateseccode').click() # 点击验证码图片，刷新验证码"
   ]
  },
  {
   "cell_type": "code",
   "execution_count": null,
   "metadata": {},
   "outputs": [
    {
     "data": {
      "text/plain": [
       "<ChromiumElement a href='javascript:;' onclick='updateseccode('cSYpLU56');doane(event);' class='xi2'>"
      ]
     },
     "execution_count": 18,
     "metadata": {},
     "output_type": "execute_result"
    }
   ],
   "source": []
  },
  {
   "cell_type": "code",
   "execution_count": null,
   "metadata": {},
   "outputs": [
    {
     "data": {
      "text/plain": [
       "<ChromiumElement h3 class='xs2'>"
      ]
     },
     "execution_count": 49,
     "metadata": {},
     "output_type": "execute_result"
    }
   ],
   "source": []
  },
  {
   "cell_type": "code",
   "execution_count": null,
   "metadata": {},
   "outputs": [],
   "source": []
  }
 ],
 "metadata": {
  "kernelspec": {
   "display_name": ".venv",
   "language": "python",
   "name": "python3"
  },
  "language_info": {
   "codemirror_mode": {
    "name": "ipython",
    "version": 3
   },
   "file_extension": ".py",
   "mimetype": "text/x-python",
   "name": "python",
   "nbconvert_exporter": "python",
   "pygments_lexer": "ipython3",
   "version": "3.13.2"
  }
 },
 "nbformat": 4,
 "nbformat_minor": 2
}
